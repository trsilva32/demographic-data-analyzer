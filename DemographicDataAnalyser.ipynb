{
 "metadata": {
  "language_info": {
   "codemirror_mode": {
    "name": "ipython",
    "version": 3
   },
   "file_extension": ".py",
   "mimetype": "text/x-python",
   "name": "python",
   "nbconvert_exporter": "python",
   "pygments_lexer": "ipython3",
   "version": "3.7.6-final"
  },
  "orig_nbformat": 2,
  "kernelspec": {
   "name": "python3",
   "display_name": "Python 3"
  }
 },
 "nbformat": 4,
 "nbformat_minor": 2,
 "cells": [
  {
   "cell_type": "code",
   "execution_count": 23,
   "metadata": {},
   "outputs": [],
   "source": [
    "import pandas as pd"
   ]
  },
  {
   "cell_type": "code",
   "execution_count": 24,
   "metadata": {},
   "outputs": [],
   "source": [
    "df = pd.read_csv(\"adult_data.csv\")"
   ]
  },
  {
   "cell_type": "code",
   "execution_count": 25,
   "metadata": {},
   "outputs": [],
   "source": [
    "# How many of each race are represented in this dataset? This should be a Pandas series with race names as the index labels.\n",
    "race_count = df[\"race\"].value_counts()"
   ]
  },
  {
   "cell_type": "code",
   "execution_count": 26,
   "metadata": {},
   "outputs": [],
   "source": [
    "# What is the average age of men?\n",
    "average_age_men = round(df.loc[df[\"sex\"]=='Male',\"age\"].mean(),1)"
   ]
  },
  {
   "cell_type": "code",
   "execution_count": 103,
   "metadata": {},
   "outputs": [],
   "source": [
    " # What is the percentage of people who have a Bachelor's degree?\n",
    "percentage_bachelors = round(\n",
    "        len(df[df[\"education\"] == \"Bachelors\"]) / len(df) * 100, 1)"
   ]
  },
  {
   "cell_type": "code",
   "execution_count": 30,
   "metadata": {},
   "outputs": [],
   "source": [
    "# What percentage of people with advanced education (`Bachelors`, `Masters`, or `Doctorate`) make more than 50K?\n",
    "# What percentage of people without advanced education make more than 50K?\n",
    "# with and without `Bachelors`, `Masters`, or `Doctorate`\n",
    "higher_education = df.loc[df[\"education\"].isin(['Bachelors', 'Masters', 'Doctorate'])]\n",
    "lower_education =  df.loc[~df[\"education\"].isin(['Bachelors', 'Masters', 'Doctorate'])]"
   ]
  },
  {
   "cell_type": "code",
   "execution_count": 64,
   "metadata": {},
   "outputs": [],
   "source": [
    " # percentage with salary >50K\n",
    "higher_education_rich = round((len(higher_education.loc[higher_education[\"salary\"] == \">50K\" ])/len(higher_education))*100,1)\n",
    "lower_education_rich = round((len(lower_education.loc[lower_education[\"salary\"] == \">50K\"])/len(lower_education))*100,1)"
   ]
  },
  {
   "cell_type": "code",
   "execution_count": 74,
   "metadata": {},
   "outputs": [],
   "source": [
    "# What is the minimum number of hours a person works per week (hours-per-week feature)?\n",
    "min_work_hours = df[\"hours-per-week\"].min()"
   ]
  },
  {
   "cell_type": "code",
   "execution_count": 79,
   "metadata": {},
   "outputs": [],
   "source": [
    "# What percentage of the people who work the minimum number of hours per week have a salary of >50K?\n",
    "num_min_workers = len(df[df[\"hours-per-week\"] == min_work_hours])\n",
    "rich_percentage = round(len(df[(df[\"hours-per-week\"] == min_work_hours)\n",
    "                                   & (df[\"salary\"] == \">50K\")]) / num_min_workers * 100, 1)"
   ]
  },
  {
   "cell_type": "code",
   "execution_count": 92,
   "metadata": {},
   "outputs": [],
   "source": [
    "# What country has the highest percentage of people that earn >50K?\n",
    "highest_earning_country = (df.loc[df[\"salary\"] == \">50K\",\n",
    "                                      \"native-country\"].value_counts() / df[\"native-country\"].value_counts()).fillna(0).sort_values(ascending=False).index[0]\n",
    "highest_earning_country_percentage = round(len(df[(df[\"native-country\"] == highest_earning_country) & (\n",
    "        df[\"salary\"] == \">50K\")]) / len(df[df[\"native-country\"] == highest_earning_country]) * 100, 1)"
   ]
  },
  {
   "cell_type": "code",
   "execution_count": 97,
   "metadata": {},
   "outputs": [],
   "source": [
    "# Identify the most popular occupation for those who earn >50K in India.\n",
    "top_IN_occupation = df[(df[\"salary\"]==\">50K\") & (df[\"native-country\"]==\"India\")][\"occupation\"].value_counts().index[0]"
   ]
  },
  {
   "cell_type": "code",
   "execution_count": 104,
   "metadata": {},
   "outputs": [
    {
     "output_type": "stream",
     "name": "stdout",
     "text": [
      "Number of each race:\n White                 27816\nBlack                  3124\nAsian-Pac-Islander     1039\nAmer-Indian-Eskimo      311\nOther                   271\nName: race, dtype: int64\nAverage age of men: 39.4\nPercentage with Bachelors degrees: 16.4%\nPercentage with higher education that earn >50K: 46.5%\nPercentage without higher education that earn >50K: 17.4%\nMin work time: 1 hours/week\nPercentage of rich among those who work fewest hours: 10.0%\nCountry with highest percentage of rich: Iran\nHighest percentage of rich people in country: 41.9%\nTop occupations in India: Prof-specialty\n"
     ]
    }
   ],
   "source": [
    "print(\"Number of each race:\\n\", race_count)\n",
    "print(\"Average age of men:\", average_age_men)\n",
    "print(f\"Percentage with Bachelors degrees: {percentage_bachelors}%\")\n",
    "print(f\"Percentage with higher education that earn >50K: {higher_education_rich}%\")\n",
    "print(f\"Percentage without higher education that earn >50K: {lower_education_rich}%\")\n",
    "print(f\"Min work time: {min_work_hours} hours/week\")\n",
    "print(f\"Percentage of rich among those who work fewest hours: {rich_percentage}%\")\n",
    "print(\"Country with highest percentage of rich:\", highest_earning_country)\n",
    "print(f\"Highest percentage of rich people in country: {highest_earning_country_percentage}%\")\n",
    "print(\"Top occupations in India:\", top_IN_occupation)\n"
   ]
  },
  {
   "cell_type": "code",
   "execution_count": null,
   "metadata": {},
   "outputs": [],
   "source": []
  }
 ]
}